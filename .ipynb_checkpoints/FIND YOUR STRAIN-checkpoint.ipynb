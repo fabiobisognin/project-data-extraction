{
 "cells": [
  {
   "cell_type": "markdown",
   "metadata": {},
   "source": [
    "Import data from API"
   ]
  },
  {
   "cell_type": "code",
   "execution_count": 96,
   "metadata": {},
   "outputs": [],
   "source": [
    "import re\n",
    "import json\n",
    "import requests\n",
    "import urllib.request\n",
    "from base64 import b64encode\n",
    "import pandas as pd\n",
    "import numpy as np\n",
    "from pandas.io.json import json_normalize\n",
    "import operator, functools\n",
    "import matplotlib"
   ]
  },
  {
   "cell_type": "code",
   "execution_count": 97,
   "metadata": {},
   "outputs": [],
   "source": [
    "r = requests.get(\"http://strainapi.evanbusse.com/FsMDSqK/strains/search/all\")\n",
    "tex=(r.text)"
   ]
  },
  {
   "cell_type": "code",
   "execution_count": 99,
   "metadata": {},
   "outputs": [],
   "source": [
    "data= json.loads(tex)\n",
    "data= pd.DataFrame(data)\n",
    "data= data.transpose()\n",
    "efectos= pd.json_normalize(data.effects)\n",
    "efectos\n",
    "data=data.reset_index()\n",
    "data=pd.concat([data, efectos], axis=1)\n",
    "data=data.drop('effects', axis=1)\n"
   ]
  },
  {
   "cell_type": "markdown",
   "metadata": {},
   "source": [
    "Create lambda to find effects"
   ]
  },
  {
   "cell_type": "code",
   "execution_count": 125,
   "metadata": {},
   "outputs": [],
   "source": [
    "flat = data.positive.apply(lambda x: 'Relaxed'in x)\n",
    "df1 = data[flat]\n"
   ]
  },
  {
   "cell_type": "markdown",
   "metadata": {},
   "source": [
    "Find positive effects funcion"
   ]
  },
  {
   "cell_type": "code",
   "execution_count": 126,
   "metadata": {},
   "outputs": [],
   "source": [
    "def find_positive(data, lst):\n",
    "    indices= set(data.index)\n",
    "    for values in lst:\n",
    "        flat = data.positive.apply(lambda x: values in x)\n",
    "        indices=indices.intersection(data[flat].index)\n",
    "    \n",
    "    return data.iloc[list(indices)]"
   ]
  },
  {
   "cell_type": "markdown",
   "metadata": {},
   "source": [
    "Find medical issue to solve - function"
   ]
  },
  {
   "cell_type": "code",
   "execution_count": 127,
   "metadata": {},
   "outputs": [],
   "source": [
    "def find_medical(data, lst):\n",
    "    indices= set(data.index)\n",
    "    for values in lst:\n",
    "        flat = data.medical.apply(lambda x: values in x)\n",
    "        indices=indices.intersection(data[flat].index)\n",
    "    \n",
    "    return data.iloc[list(indices)]"
   ]
  },
  {
   "cell_type": "markdown",
   "metadata": {},
   "source": [
    "Avoide negative effects to solve - function"
   ]
  },
  {
   "cell_type": "code",
   "execution_count": 128,
   "metadata": {},
   "outputs": [],
   "source": [
    "def avoid(data, lst):\n",
    "    indices= set(data.index)\n",
    "    for values in lst:\n",
    "        flat = data.negative.apply(lambda x: values not in x)\n",
    "        indices=indices.intersection(data[flat].index)\n",
    "    \n",
    "    return data.iloc[list(indices)]"
   ]
  },
  {
   "cell_type": "code",
   "execution_count": 129,
   "metadata": {},
   "outputs": [],
   "source": [
    "def find_master(data, positive=[], negative=[], medical=[]):\n",
    "    indices= set(data.index)\n",
    "    indices= indices.intersection(find_positive(data, positive).index)\n",
    "    indices= indices.intersection(find_medical(data, medical).index)\n",
    "    indices= indices.intersection(avoid(data, negative).index)\n",
    "    return data.iloc[list(indices)]"
   ]
  },
  {
   "cell_type": "markdown",
   "metadata": {},
   "source": [
    "Define effects "
   ]
  },
  {
   "cell_type": "code",
   "execution_count": 145,
   "metadata": {},
   "outputs": [],
   "source": [
    "all_effects = {\"effect\":\"Relaxed\",\"type\":\"positive\"},{\"effect\":\"Dizzy\",\"type\":\"negative\"},{\"effect\":\"Hungry\",\"type\":\"positive\"},{\"effect\":\"Euphoric\",\"type\":\"positive\"},{\"effect\":\"Happy\",\"type\":\"positive\"},{\"effect\":\"Depression\",\"type\":\"medical\"},{\"effect\":\"Insomnia\",\"type\":\"medical\"},{\"effect\":\"Pain\",\"type\":\"medical\"},{\"effect\":\"Stress\",\"type\":\"medical\"},{\"effect\":\"Cramps\",\"type\":\"medical\"},{\"effect\":\"Creative\",\"type\":\"positive\"},{\"effect\":\"Energetic\",\"type\":\"positive\"},{\"effect\":\"Talkative\",\"type\":\"positive\"},{\"effect\":\"Lack of Appetite\",\"type\":\"medical\"},{\"effect\":\"Nausea\",\"type\":\"medical\"},{\"effect\":\"Dry Mouth\",\"type\":\"negative\"},{\"effect\":\"Headache\",\"type\":\"medical\"},{\"effect\":\"Uplifted\",\"type\":\"positive\"},{\"effect\":\"Tingly\",\"type\":\"positive\"},{\"effect\":\"Paranoid\",\"type\":\"negative\"},{\"effect\":\"Sleepy\",\"type\":\"positive\"},{\"effect\":\"Fatigue\",\"type\":\"medical\"},{\"effect\":\"Headaches\",\"type\":\"medical\"},{\"effect\":\"Dry Eyes\",\"type\":\"negative\"},{\"effect\":\"Focused\",\"type\":\"positive\"},{\"effect\":\"Eye Pressure\",\"type\":\"medical\"},{\"effect\":\"Anxious\",\"type\":\"negative\"},{\"effect\":\"Giggly\",\"type\":\"positive\"},{\"effect\":\"Aroused\",\"type\":\"positive\"},{\"effect\":\"Inflammation\",\"type\":\"medical\"},{\"effect\":\"Spasticity\",\"type\":\"medical\"},{\"effect\":\"Seizures\",\"type\":\"medical\"},{\"effect\":\"Muscle Spasms\",\"type\":\"medical\"}\n",
    "all_eff= pd.DataFrame.from_dict(all_effects) "
   ]
  },
  {
   "cell_type": "code",
   "execution_count": 131,
   "metadata": {},
   "outputs": [],
   "source": [
    "medical_issues= all_eff.loc[all_eff['type'] == \"medical\"]\n",
    "medicals=medical_issues[['effect']]"
   ]
  },
  {
   "cell_type": "code",
   "execution_count": 132,
   "metadata": {},
   "outputs": [],
   "source": [
    "positive_effects= all_eff.loc[all_eff['type'] == \"positive\"]\n",
    "positives=positive_effects[['effect']]"
   ]
  },
  {
   "cell_type": "code",
   "execution_count": 133,
   "metadata": {},
   "outputs": [],
   "source": [
    "negative_effects= all_eff.loc[all_eff['type'] == \"negative\"]\n",
    "negatives=negative_effects[['effect']]"
   ]
  },
  {
   "cell_type": "markdown",
   "metadata": {},
   "source": [
    "   "
   ]
  },
  {
   "cell_type": "markdown",
   "metadata": {},
   "source": [
    "LET'S START"
   ]
  },
  {
   "cell_type": "markdown",
   "metadata": {},
   "source": [
    "CHOOSE HOW YOU WANT TO FEEL"
   ]
  },
  {
   "cell_type": "code",
   "execution_count": 134,
   "metadata": {},
   "outputs": [
    {
     "name": "stdout",
     "output_type": "stream",
     "text": [
      "       effect\n",
      "0     Relaxed\n",
      "2      Hungry\n",
      "3    Euphoric\n",
      "4       Happy\n",
      "10   Creative\n",
      "11  Energetic\n",
      "12  Talkative\n",
      "17   Uplifted\n",
      "18     Tingly\n",
      "20     Sleepy\n",
      "24    Focused\n",
      "27     Giggly\n",
      "28    Aroused\n"
     ]
    }
   ],
   "source": [
    "print(positives)"
   ]
  },
  {
   "cell_type": "code",
   "execution_count": 135,
   "metadata": {},
   "outputs": [
    {
     "name": "stdout",
     "output_type": "stream",
     "text": [
      "hit enter after each effect. q to quit\n",
      "Aroused\n",
      "q\n"
     ]
    }
   ],
   "source": [
    "print(\"hit enter after each effect. q to quit\")\n",
    "positive=[]\n",
    "while True:\n",
    "    p = input()\n",
    "    if str(p) == 'q':\n",
    "        break\n",
    "    positive.append(p)"
   ]
  },
  {
   "cell_type": "markdown",
   "metadata": {},
   "source": [
    "SELECT MEDICAL SITUATION YOU NEED TO FIX"
   ]
  },
  {
   "cell_type": "code",
   "execution_count": 136,
   "metadata": {},
   "outputs": [
    {
     "name": "stdout",
     "output_type": "stream",
     "text": [
      "              effect\n",
      "5         Depression\n",
      "6           Insomnia\n",
      "7               Pain\n",
      "8             Stress\n",
      "9             Cramps\n",
      "13  Lack of Appetite\n",
      "14            Nausea\n",
      "16          Headache\n",
      "21           Fatigue\n",
      "22         Headaches\n",
      "25      Eye Pressure\n",
      "29      Inflammation\n",
      "30        Spasticity\n",
      "31          Seizures\n",
      "32     Muscle Spasms\n"
     ]
    }
   ],
   "source": [
    "print(medicals)"
   ]
  },
  {
   "cell_type": "code",
   "execution_count": 152,
   "metadata": {},
   "outputs": [
    {
     "name": "stdout",
     "output_type": "stream",
     "text": [
      "hit enter after each effect. q to quit\n",
      "Depression\n",
      "Pain\n",
      "q\n"
     ]
    }
   ],
   "source": [
    "print(\"hit enter after each effect. q to quit\")\n",
    "medical=[]\n",
    "while True:\n",
    "    m = input()\n",
    "    if str(m) == 'q':\n",
    "        break\n",
    "    medical.append(m)"
   ]
  },
  {
   "cell_type": "markdown",
   "metadata": {},
   "source": [
    "SELECT THE NEGATIVE EFFECTS YOU WANT TO AVOID"
   ]
  },
  {
   "cell_type": "code",
   "execution_count": 154,
   "metadata": {},
   "outputs": [
    {
     "name": "stdout",
     "output_type": "stream",
     "text": [
      "       effect\n",
      "1       Dizzy\n",
      "15  Dry Mouth\n",
      "19   Paranoid\n",
      "23   Dry Eyes\n",
      "26    Anxious\n"
     ]
    }
   ],
   "source": [
    "print(negatives)"
   ]
  },
  {
   "cell_type": "code",
   "execution_count": 156,
   "metadata": {},
   "outputs": [
    {
     "name": "stdout",
     "output_type": "stream",
     "text": [
      "hit enter after each effect. q to quit\n",
      "Dizzy\n",
      "q\n"
     ]
    }
   ],
   "source": [
    "print(\"hit enter after each effect. q to quit\")\n",
    "negative=[]\n",
    "while True:\n",
    "    n = input()\n",
    "    if str(n) == 'q':\n",
    "        break\n",
    "    negative.append(n)"
   ]
  },
  {
   "cell_type": "markdown",
   "metadata": {},
   "source": [
    "FIND FUNCTION"
   ]
  },
  {
   "cell_type": "code",
   "execution_count": 219,
   "metadata": {},
   "outputs": [],
   "source": [
    "recommended_strains=find_master(data, positive, negative, medical)"
   ]
  },
  {
   "cell_type": "markdown",
   "metadata": {},
   "source": [
    "Your cannabis race probability"
   ]
  },
  {
   "cell_type": "code",
   "execution_count": 221,
   "metadata": {},
   "outputs": [
    {
     "name": "stdout",
     "output_type": "stream",
     "text": [
      "Your Cannabis race probablity\n",
      "hybrid 45.0\n",
      "indica 32.5\n",
      "sativa 22.5\n"
     ]
    }
   ],
   "source": [
    "#extra: your most compatible cannabis race\n",
    "print('Your Cannabis race probablity')\n",
    "races= find_master(data, positive, negative, medical)[['race']]\n",
    "recommended_race = races['race'].value_counts().to_dict()\n",
    "s = sum(recommended_race.values())\n",
    "for k, v in recommended_race.items():\n",
    "    pct = v * 100.0 / s\n",
    "    print(k, pct)"
   ]
  },
  {
   "cell_type": "code",
   "execution_count": 217,
   "metadata": {},
   "outputs": [
    {
     "data": {
      "text/plain": [
       "{('Ammonia',),\n",
       " ('Apricot',),\n",
       " ('Berry',),\n",
       " ('Blueberry',),\n",
       " ('Butter',),\n",
       " ('Cheese',),\n",
       " ('Chemical',),\n",
       " ('Citrus',),\n",
       " ('Coffee',),\n",
       " ('Diesel',),\n",
       " ('Earthy',),\n",
       " ('Flowery',),\n",
       " ('Grape',),\n",
       " ('Lavender',),\n",
       " ('Lemon',),\n",
       " ('Lime',),\n",
       " ('Menthol',),\n",
       " ('Orange',),\n",
       " ('Pear',),\n",
       " ('Pepper',),\n",
       " ('Pine',),\n",
       " ('Pineapple',),\n",
       " ('Plum',),\n",
       " ('Pungent',),\n",
       " ('Sage',),\n",
       " ('Skunk',),\n",
       " ('Spicy/Herbal',),\n",
       " ('Strawberry',),\n",
       " ('Sweet',),\n",
       " ('Tar',),\n",
       " ('Tree Fruit',),\n",
       " ('Tropical',),\n",
       " ('Woody',)}"
      ]
     },
     "execution_count": 217,
     "metadata": {},
     "output_type": "execute_result"
    }
   ],
   "source": [
    "#find available flavors\n",
    "flavors=recommended_strains[['index', 'flavors', 'race']].explode('flavors')\n",
    "flav=flavors[['flavors']]\n",
    "flav=flav.to_numpy()\n",
    "set(map(tuple, flav))\n"
   ]
  },
  {
   "cell_type": "code",
   "execution_count": 225,
   "metadata": {},
   "outputs": [
    {
     "data": {
      "text/html": [
       "<div>\n",
       "<style scoped>\n",
       "    .dataframe tbody tr th:only-of-type {\n",
       "        vertical-align: middle;\n",
       "    }\n",
       "\n",
       "    .dataframe tbody tr th {\n",
       "        vertical-align: top;\n",
       "    }\n",
       "\n",
       "    .dataframe thead th {\n",
       "        text-align: right;\n",
       "    }\n",
       "</style>\n",
       "<table border=\"1\" class=\"dataframe\">\n",
       "  <thead>\n",
       "    <tr style=\"text-align: right;\">\n",
       "      <th></th>\n",
       "      <th>index</th>\n",
       "      <th>flavors</th>\n",
       "      <th>race</th>\n",
       "    </tr>\n",
       "  </thead>\n",
       "  <tbody>\n",
       "    <tr>\n",
       "      <th>1402</th>\n",
       "      <td>Pineapple Punch</td>\n",
       "      <td>Pineapple</td>\n",
       "      <td>sativa</td>\n",
       "    </tr>\n",
       "    <tr>\n",
       "      <th>876</th>\n",
       "      <td>Hawaiian Cookies</td>\n",
       "      <td>Pineapple</td>\n",
       "      <td>hybrid</td>\n",
       "    </tr>\n",
       "  </tbody>\n",
       "</table>\n",
       "</div>"
      ],
      "text/plain": [
       "                 index    flavors    race\n",
       "1402   Pineapple Punch  Pineapple  sativa\n",
       "876   Hawaiian Cookies  Pineapple  hybrid"
      ]
     },
     "execution_count": 225,
     "metadata": {},
     "output_type": "execute_result"
    }
   ],
   "source": [
    "final_recommendation = flavors[flavors['flavors'] == \"Pineapple\"]\n",
    "final_recommendation"
   ]
  },
  {
   "cell_type": "code",
   "execution_count": null,
   "metadata": {},
   "outputs": [],
   "source": []
  },
  {
   "cell_type": "code",
   "execution_count": null,
   "metadata": {},
   "outputs": [],
   "source": []
  }
 ],
 "metadata": {
  "kernelspec": {
   "display_name": "Python 3",
   "language": "python",
   "name": "python3"
  },
  "language_info": {
   "codemirror_mode": {
    "name": "ipython",
    "version": 3
   },
   "file_extension": ".py",
   "mimetype": "text/x-python",
   "name": "python",
   "nbconvert_exporter": "python",
   "pygments_lexer": "ipython3",
   "version": "3.8.3"
  }
 },
 "nbformat": 4,
 "nbformat_minor": 4
}
